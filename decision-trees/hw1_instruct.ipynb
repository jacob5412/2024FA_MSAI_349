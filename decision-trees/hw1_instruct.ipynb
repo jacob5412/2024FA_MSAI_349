{
 "cells": [
  {
   "cell_type": "markdown",
   "id": "9fe68ad8-9944-4b0c-b6fb-9410001aff88",
   "metadata": {},
   "source": [
    "# Homework #1: Decision Trees using ID3\n",
    "\n",
    "* This notebook should help guide you in writing code for your homework.\n",
    "* Please submit this notebook along with your writeup.\n",
    "* In this assignment, you will implement the ID3 algorithm to build a decision tree.\n",
    "* Follow the steps below to complete your implementation. Remember to test your code thoroughly using the provided datasets and unit tests.\n",
    "* Using any assistive tools to generate your code or write up is strictly prohibited per the course guidelines.\n",
    "\n",
    "Good luck and have fun! <(^_^)>"
   ]
  },
  {
   "cell_type": "code",
   "execution_count": null,
   "id": "52c23fa8-001b-404b-a0a0-266c2fef4bff",
   "metadata": {},
   "outputs": [],
   "source": [
    "import csv\n",
    "import random\n",
    "from collections import Counter\n",
    "\n",
    "import matplotlib.pyplot as plt\n",
    "\n",
    "random.seed(101)"
   ]
  },
  {
   "cell_type": "markdown",
   "id": "54cf86eb-3e70-4453-9088-6d7ad515018b",
   "metadata": {},
   "source": [
    "* The above imports should have you covered.\n",
    "* You may **not** use an additional external packages to complete this assignment. These include, but are not limited to-`sklearn`, `numpy` or `pandas`.\n",
    "* You may use built-in libraries like `collections`, `os`, `sys`, and so forth to read in files and handle your data structures."
   ]
  },
  {
   "cell_type": "code",
   "execution_count": null,
   "id": "2f65393f-f4c3-44f5-a3d1-a853e5aa302e",
   "metadata": {},
   "outputs": [],
   "source": [
    "def parse(filename):\n",
    "    \"\"\"\n",
    "    Takes a filename and returns attribute information and all the data in array of dictionaries\n",
    "\n",
    "    ------ Do not modify this function --------\n",
    "    \"\"\"\n",
    "    # initialize variables\n",
    "\n",
    "    out = []\n",
    "    # note: you may need to add encoding=\"utf-8\" as a parameter\n",
    "    csvfile = open(filename, \"r\")\n",
    "    fileToRead = csv.reader(csvfile)\n",
    "\n",
    "    headers = next(fileToRead)\n",
    "\n",
    "    # iterate through rows of actual data\n",
    "    for row in fileToRead:\n",
    "        out.append(dict(zip(headers, row)))\n",
    "\n",
    "    return out"
   ]
  },
  {
   "cell_type": "code",
   "execution_count": null,
   "id": "6f0556aa-daa7-43c7-8cd1-1461a1d50cc5",
   "metadata": {},
   "outputs": [],
   "source": [
    "# example usage\n",
    "house_votes_data = parse(\"house_votes_84.data\")\n",
    "house_votes_data[0]  # list of dicts"
   ]
  },
  {
   "cell_type": "markdown",
   "id": "dc629544-4bc5-497d-a865-783e068fa4c2",
   "metadata": {},
   "source": [
    "## Implementing Data Structures\n",
    "\n",
    "Start by writing up your node class."
   ]
  },
  {
   "cell_type": "code",
   "execution_count": null,
   "id": "1a978325-d69e-461b-95bc-fef149b8a49a",
   "metadata": {},
   "outputs": [],
   "source": [
    "class Node:\n",
    "    \"\"\"\n",
    "    A class used to represent a node in a decision tree.\n",
    "    \"\"\"\n",
    "\n",
    "    def __init__(self):\n",
    "        self.label = None\n",
    "        self.children = {}\n",
    "\n",
    "\n",
    "# you may want to add additional fields here..."
   ]
  },
  {
   "cell_type": "markdown",
   "id": "02780421-5f46-4fc2-ab70-3d0951e8731f",
   "metadata": {},
   "source": [
    "* Now implement the ID3 algorithm using the node data structure you created.\n",
    "* You may overload the following functions and create more as you please."
   ]
  },
  {
   "cell_type": "code",
   "execution_count": null,
   "id": "5cacc913-a516-4fc7-bfa4-fe01bd9c069d",
   "metadata": {},
   "outputs": [],
   "source": [
    "def ID3(examples, default):\n",
    "    \"\"\"\n",
    "    Implements the ID3 algorithm to generate a decision tree.\n",
    "\n",
    "    Args:\n",
    "    - examples (list of dict): A list of examples, where each example is a dictionary\n",
    "      of attribute-value pairs. The target class variable is a special attribute\n",
    "      with the name \"Class\". Missing attributes are denoted with a value of \"?\".\n",
    "    - default: The default class label to return if no examples are provided.\n",
    "\n",
    "    Returns:\n",
    "    - Node: A decision tree (an instance of Node) trained on the examples.\n",
    "    \"\"\"\n",
    "    raise NotImplementedError"
   ]
  },
  {
   "cell_type": "code",
   "execution_count": null,
   "id": "e699667f-d3a6-4c78-b4d4-a49d90e63f59",
   "metadata": {},
   "outputs": [],
   "source": [
    "def prune(node, examples):\n",
    "    \"\"\"\n",
    "    Prunes a trained decision tree to improve its accuracy on a validation dataset.\n",
    "\n",
    "    Args:\n",
    "    - node (Node): The root node of the decision tree to be pruned.\n",
    "    - examples (list of dict): A validation set of examples used to guide the pruning process.\n",
    "\n",
    "    Returns:\n",
    "    - Node: The pruned decision tree.\n",
    "    \"\"\"\n",
    "    raise NotImplementedError"
   ]
  },
  {
   "cell_type": "code",
   "execution_count": null,
   "id": "b4da514b-c16f-4b94-9378-af96659c445c",
   "metadata": {},
   "outputs": [],
   "source": [
    "def test(node, examples):\n",
    "    \"\"\"\n",
    "    Evaluates the accuracy of a decision tree on a test dataset.\n",
    "\n",
    "    Args:\n",
    "    - node (Node): The root node of the decision tree.\n",
    "    - examples (list of dict): A test set of examples to evaluate the tree's performance.\n",
    "\n",
    "    Returns:\n",
    "    - float: The accuracy of the decision tree, defined as the fraction of correctly\n",
    "      classified examples.\n",
    "    \"\"\"\n",
    "    raise NotImplementedError"
   ]
  },
  {
   "cell_type": "code",
   "execution_count": null,
   "id": "06cf49ba-a2aa-4bae-9574-a4e9106c7f8b",
   "metadata": {},
   "outputs": [],
   "source": [
    "def evaluate(node, example):\n",
    "    \"\"\"\n",
    "    Classifies a single example using the decision tree.\n",
    "\n",
    "    Args:\n",
    "    - node (Node): The root node of the decision tree.\n",
    "    - example (dict): A single example represented as a dictionary of attribute-value pairs.\n",
    "\n",
    "    Returns:\n",
    "    - str: The class label assigned to the example by the decision tree.\n",
    "    \"\"\"\n",
    "    raise NotImplementedError"
   ]
  },
  {
   "cell_type": "markdown",
   "id": "ffea1c33-5018-4f38-933a-362b05c19b90",
   "metadata": {},
   "source": [
    "## Testing Basic Implementation\n",
    "\n",
    "* You can test your implementation of ID3 using the function below.\n",
    "* If your code works as directed, all the test cases would pass.\n",
    "* They test the following:\n",
    "    * Case 1: A simple test with two examples that belong to the same class. The decision tree should correctly classify both examples.\n",
    "    * Case 2: two different class labels.\n",
    "    * Case 3: Involves different classes and multiple attribute values. The tree should be able to distinguish between different classes.\n",
    "    * Case 4: Checks whether the implementation can handle missing attributes, denoted by \"?\". The tree should still classify the examples correctly even when some attributes are missing."
   ]
  },
  {
   "cell_type": "code",
   "execution_count": null,
   "id": "4ea2b3ce-8f6e-4397-a06a-7fa89eae5ac0",
   "metadata": {},
   "outputs": [],
   "source": [
    "def mini_grader():\n",
    "    data = [dict(a=1, b=0, Class=1), dict(a=1, b=1, Class=1)]\n",
    "\n",
    "    try:\n",
    "        tree = ID3(data, 0)\n",
    "        if tree != None:\n",
    "            ans = evaluate(tree, dict(a=1, b=0))\n",
    "            if ans != 1:\n",
    "                print(\"ID3 test 1 failed.\")\n",
    "            else:\n",
    "                print(\"ID3 test 1 succeeded.\")\n",
    "        else:\n",
    "            print(\"ID3 test 1 failed -- no tree returned\")\n",
    "    except Exception as e:\n",
    "        print(f\"ID3 test 1 failed runtime error: {e}\")\n",
    "\n",
    "    data = [dict(a=1, b=0, Class=0), dict(a=1, b=1, Class=1)]\n",
    "\n",
    "    try:\n",
    "        tree = ID3(data, 0)\n",
    "        if tree != None:\n",
    "            ans = evaluate(tree, dict(a=1, b=0))\n",
    "            if ans != 0:\n",
    "                print(\"ID3 test 2 failed.\")\n",
    "            else:\n",
    "                print(\"ID3 test 2 succeeded.\")\n",
    "        else:\n",
    "            print(\"ID3 test 2 failed -- no tree returned\")\n",
    "    except Exception as e:\n",
    "        print(f\"ID3 test 2 failed runtime error: {e}\")\n",
    "\n",
    "    data = [\n",
    "        dict(a=1, b=0, Class=2),\n",
    "        dict(a=1, b=1, Class=1),\n",
    "        dict(a=2, b=0, Class=2),\n",
    "        dict(a=2, b=1, Class=3),\n",
    "        dict(a=3, b=0, Class=1),\n",
    "        dict(a=3, b=1, Class=3),\n",
    "    ]\n",
    "\n",
    "    try:\n",
    "        tree = ID3(data, 0)\n",
    "        if tree != None:\n",
    "            ans = evaluate(tree, dict(a=1, b=0))\n",
    "            if ans != 2:\n",
    "                print(\"ID3 test 3-1 failed.\")\n",
    "            else:\n",
    "                print(\"ID3 test 3-1 succeeded.\")\n",
    "            ans = evaluate(tree, dict(a=1, b=1))\n",
    "            if ans != 1:\n",
    "                print(\"ID3 test 3-2 failed.\")\n",
    "            else:\n",
    "                print(\"ID3 test 3-2 succeeded.\")\n",
    "        else:\n",
    "            print(\"ID3 test 3 failed -- no tree returned\")\n",
    "    except Exception as e:\n",
    "        print(f\"ID3 test 3 failed runtime error: {e}\")\n",
    "\n",
    "    data = [\n",
    "        dict(a=1, b=0, c=\"?\", Class=1),\n",
    "        dict(a=1, b=3, c=2, Class=1),\n",
    "        dict(a=2, b=\"?\", c=1, Class=2),\n",
    "        dict(a=2, b=1, c=3, Class=2),\n",
    "        dict(a=3, b=0, c=1, Class=3),\n",
    "        dict(a=3, b=2, c=\"?\", Class=3),\n",
    "    ]\n",
    "\n",
    "    try:\n",
    "        tree = ID3(data, 0)\n",
    "        if tree != None:\n",
    "            ans = evaluate(tree, dict(a=1, b=1, c=1))\n",
    "            if ans != 1:\n",
    "                print(\"ID3 test 4-1 failed.\")\n",
    "            else:\n",
    "                print(\"ID3 test 4-1 succeeded.\")\n",
    "            ans = evaluate(tree, dict(a=2, b=0, c=0))\n",
    "            if ans != 2:\n",
    "                print(\"ID3 test 4-2 failed.\")\n",
    "            else:\n",
    "                print(\"ID3 test 4-2 succeeded.\")\n",
    "        else:\n",
    "            print(\"ID3 test 4 failed -- no tree returned\")\n",
    "    except Exception as e:\n",
    "        print(f\"ID3 test 4 failed runtime error: {e}\")"
   ]
  },
  {
   "cell_type": "code",
   "execution_count": null,
   "id": "cc2be60f-617d-4e03-9085-7b00e9089080",
   "metadata": {},
   "outputs": [],
   "source": [
    "mini_grader()"
   ]
  },
  {
   "cell_type": "markdown",
   "id": "f133270a-84bb-4482-8de5-d89dfd098d25",
   "metadata": {},
   "source": [
    "## Plot Learning Curves\n",
    "\n",
    "**Implement Training and Testing with and without Pruning**\n",
    "\n",
    "* Implement the logic to train the decision tree on various training set sizes (ranging between 10 and 300 examples).\n",
    "* For each training size:\n",
    "    * Perform 100 random runs.\n",
    "    * In each run, use the selected training examples to train the tree.\n",
    "    * Test the tree on all examples not used for training.\n",
    "    * Record the accuracy for each run.\n",
    "\n",
    "**Plot Learning Curves**\n",
    "\n",
    "* For each training size, calculate the average accuracy across the 100 runs.\n",
    "* Plot the learning curves:\n",
    "    * X-axis: Number of training examples.\n",
    "    * Y-axis: Average accuracy on the test data.\n",
    "* Create two lines on the plot:\n",
    "    * One line representing accuracy with pruning and the other line representing accuracy without pruning.\n",
    "    * Remember to connect the points for each line to visualize the trends."
   ]
  },
  {
   "cell_type": "code",
   "execution_count": null,
   "id": "bda6f458-e952-4e19-bd12-30b49a26ec8f",
   "metadata": {},
   "outputs": [],
   "source": [
    "# your code goes here ..."
   ]
  },
  {
   "cell_type": "markdown",
   "id": "874d0829-91af-4373-8e0d-7266aba4e70e",
   "metadata": {},
   "source": [
    "## Bonus: Random Forests\n",
    "\n",
    "\n",
    "```txt\n",
    "               ,@@@@@@@,\n",
    "       ,,,.   ,@@@@@@/@@,  .oo8888o.\n",
    "    ,&%%&%&&%,@@@@@/@@@@@@,8888\\88/8o\n",
    "   ,%&\\%&&%&&%,@@@\\@@@/@@@88\\88888/88'\n",
    "   %&&%&%&/%&&%@@\\@@/ /@@@88888\\88888'\n",
    "   %&&%/ %&%%&&@@\\ V /@@' `88\\8 `/88'\n",
    "   `&%\\ ` /%&'    |.|        \\ '|8'\n",
    "       |o|        | |         | |\n",
    "       |.|        | |         | |\n",
    "jgs \\\\/ ._\\//_/__/  ,\\_//__\\\\/.  \\_//__/_\n",
    "```\n",
    "\n",
    "* In this section you will be building and evaluating a Random Forest classifier.\n",
    "* Ensure you have your ID3 implementation ready, as you will be using it to construct the trees in your Random Forest."
   ]
  },
  {
   "cell_type": "code",
   "execution_count": null,
   "id": "72730293-3b9f-46f2-a36c-67e378b32949",
   "metadata": {},
   "outputs": [],
   "source": [
    "# you code goes here ..."
   ]
  },
  {
   "cell_type": "code",
   "execution_count": null,
   "id": "f7fcd765-fc0e-4954-ae3e-519a3446d32c",
   "metadata": {},
   "outputs": [],
   "source": [
    "# Please do not cheat ಠ_ಠ\n",
    "# ...and feel free to ask your TAs for help! (╯°□°）╯︵ ┻━┻"
   ]
  },
  {
   "cell_type": "code",
   "execution_count": null,
   "id": "d97859ee-48e1-4d27-ac95-388d33be4a18",
   "metadata": {},
   "outputs": [],
   "source": []
  }
 ],
 "metadata": {
  "kernelspec": {
   "display_name": "Python 3 (ipykernel)",
   "language": "python",
   "name": "python3"
  },
  "language_info": {
   "codemirror_mode": {
    "name": "ipython",
    "version": 3
   },
   "file_extension": ".py",
   "mimetype": "text/x-python",
   "name": "python",
   "nbconvert_exporter": "python",
   "pygments_lexer": "ipython3",
   "version": "3.9.19"
  }
 },
 "nbformat": 4,
 "nbformat_minor": 5
}

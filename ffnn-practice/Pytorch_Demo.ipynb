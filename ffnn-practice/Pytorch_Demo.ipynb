{
 "cells": [
  {
   "cell_type": "markdown",
   "metadata": {
    "id": "RJ2u12v1N4wk"
   },
   "source": [
    "Just some imports to get out of the way"
   ]
  },
  {
   "cell_type": "code",
   "execution_count": 1,
   "metadata": {
    "id": "yC20O-RCNrOE"
   },
   "outputs": [],
   "source": [
    "import torch\n",
    "from torch import nn\n",
    "from torch.utils.data import DataLoader\n",
    "from torchvision import datasets\n",
    "\n",
    "# from torchvision.transforms import ToTensor, Lambda, Compose\n",
    "import matplotlib.pyplot as plt\n",
    "import pandas as pd\n",
    "import numpy as np\n",
    "from sklearn.preprocessing import MinMaxScaler\n",
    "import datetime\n",
    "\n",
    "# %#matplotlib inline"
   ]
  },
  {
   "cell_type": "code",
   "execution_count": 2,
   "metadata": {
    "id": "jnAr-qY3Y2So"
   },
   "outputs": [
    {
     "name": "stdout",
     "output_type": "stream",
     "text": [
      "cpu\n"
     ]
    }
   ],
   "source": [
    "device = \"cuda\" if torch.cuda.is_available() else \"cpu\"\n",
    "print(device)"
   ]
  },
  {
   "cell_type": "markdown",
   "metadata": {
    "id": "-B76PDi1RS97"
   },
   "source": [
    "## Working with tensors"
   ]
  },
  {
   "cell_type": "code",
   "execution_count": 3,
   "metadata": {
    "id": "xNmchcUWVLBk"
   },
   "outputs": [],
   "source": [
    "n, k = 5, 5"
   ]
  },
  {
   "cell_type": "code",
   "execution_count": 4,
   "metadata": {
    "colab": {
     "base_uri": "https://localhost:8080/"
    },
    "id": "s2FeWFEDSHH6",
    "outputId": "755309a7-2292-4d53-fb69-d6a4a02e1b31"
   },
   "outputs": [
    {
     "data": {
      "text/plain": [
       "tensor([ 0,  1,  2,  3,  4,  5,  6,  7,  8,  9, 10, 11, 12, 13, 14, 15, 16, 17,\n",
       "        18, 19, 20, 21, 22, 23, 24])"
      ]
     },
     "execution_count": 4,
     "metadata": {},
     "output_type": "execute_result"
    }
   ],
   "source": [
    "x = torch.tensor([i for i in range(25)])\n",
    "x"
   ]
  },
  {
   "cell_type": "code",
   "execution_count": 5,
   "metadata": {
    "colab": {
     "base_uri": "https://localhost:8080/"
    },
    "id": "V9cOgNCtOahB",
    "outputId": "930359fc-b30b-4c48-f94c-bc0fd7a8b313"
   },
   "outputs": [
    {
     "data": {
      "text/plain": [
       "tensor([[ 0,  1,  2,  3,  4],\n",
       "        [ 5,  6,  7,  8,  9],\n",
       "        [10, 11, 12, 13, 14],\n",
       "        [15, 16, 17, 18, 19],\n",
       "        [20, 21, 22, 23, 24]])"
      ]
     },
     "execution_count": 5,
     "metadata": {},
     "output_type": "execute_result"
    }
   ],
   "source": [
    "# We can manipulate the shape of our data, adding and subtract dimensions.\n",
    "x = x.reshape(5, 5)\n",
    "x"
   ]
  },
  {
   "cell_type": "code",
   "execution_count": 6,
   "metadata": {
    "colab": {
     "base_uri": "https://localhost:8080/"
    },
    "id": "SvXZT2yq2LBO",
    "outputId": "38bf5a97-9b7e-452c-e75c-e94b80f37a56"
   },
   "outputs": [
    {
     "name": "stdout",
     "output_type": "stream",
     "text": [
      "Torch not compiled with CUDA enabled\n"
     ]
    }
   ],
   "source": [
    "try:\n",
    "    c = x.cuda()\n",
    "    print(c)\n",
    "    print(c[2][2])\n",
    "except AssertionError as e:\n",
    "    print(e)"
   ]
  },
  {
   "cell_type": "code",
   "execution_count": 7,
   "metadata": {
    "colab": {
     "base_uri": "https://localhost:8080/"
    },
    "id": "4xYF-8e32oGz",
    "outputId": "32e1087b-70e5-494f-fb5e-5450f94202ac"
   },
   "outputs": [
    {
     "name": "stdout",
     "output_type": "stream",
     "text": [
      "tensor([[ 0,  1,  2,  3,  4],\n",
      "        [ 5,  6,  7,  8,  9],\n",
      "        [10, 11, 12, 13, 14],\n",
      "        [15, 16, 17, 18, 19],\n",
      "        [20, 21, 22, 23, 24]])\n"
     ]
    }
   ],
   "source": [
    "c = x.cpu()\n",
    "print(c)"
   ]
  },
  {
   "cell_type": "code",
   "execution_count": 8,
   "metadata": {
    "id": "YKjBv94uUd92"
   },
   "outputs": [
    {
     "data": {
      "text/plain": [
       "tensor([[ 0,  1,  2,  3,  4],\n",
       "        [ 5,  6,  7,  8,  9],\n",
       "        [10, 11, 12, 13, 14],\n",
       "        [15, 16, 17, 18, 19],\n",
       "        [20, 21, 22, 23, 24]])"
      ]
     },
     "execution_count": 8,
     "metadata": {},
     "output_type": "execute_result"
    }
   ],
   "source": [
    "x = x.reshape(5, -1)\n",
    "x"
   ]
  },
  {
   "cell_type": "code",
   "execution_count": 9,
   "metadata": {
    "colab": {
     "base_uri": "https://localhost:8080/"
    },
    "id": "L_wRb0TlUn2r",
    "outputId": "018f5dc6-50af-44d5-a412-e891f46a2736"
   },
   "outputs": [
    {
     "data": {
      "text/plain": [
       "tensor([[[ 0],\n",
       "         [ 1],\n",
       "         [ 2],\n",
       "         [ 3],\n",
       "         [ 4]],\n",
       "\n",
       "        [[ 5],\n",
       "         [ 6],\n",
       "         [ 7],\n",
       "         [ 8],\n",
       "         [ 9]],\n",
       "\n",
       "        [[10],\n",
       "         [11],\n",
       "         [12],\n",
       "         [13],\n",
       "         [14]],\n",
       "\n",
       "        [[15],\n",
       "         [16],\n",
       "         [17],\n",
       "         [18],\n",
       "         [19]],\n",
       "\n",
       "        [[20],\n",
       "         [21],\n",
       "         [22],\n",
       "         [23],\n",
       "         [24]]])"
      ]
     },
     "execution_count": 9,
     "metadata": {},
     "output_type": "execute_result"
    }
   ],
   "source": [
    "x = x.unsqueeze(2)\n",
    "x"
   ]
  },
  {
   "cell_type": "code",
   "execution_count": 10,
   "metadata": {},
   "outputs": [
    {
     "data": {
      "text/plain": [
       "torch.Size([5, 5, 1])"
      ]
     },
     "execution_count": 10,
     "metadata": {},
     "output_type": "execute_result"
    }
   ],
   "source": [
    "x.shape"
   ]
  },
  {
   "cell_type": "code",
   "execution_count": 11,
   "metadata": {
    "colab": {
     "base_uri": "https://localhost:8080/"
    },
    "id": "uGaBMMDwUPUA",
    "outputId": "6cbe6f5c-4c37-4005-dee4-abe9df55fc7f"
   },
   "outputs": [
    {
     "data": {
      "text/plain": [
       "tensor([[ 0,  1,  2,  3,  4],\n",
       "        [ 5,  6,  7,  8,  9],\n",
       "        [10, 11, 12, 13, 14],\n",
       "        [15, 16, 17, 18, 19],\n",
       "        [20, 21, 22, 23, 24]])"
      ]
     },
     "execution_count": 11,
     "metadata": {},
     "output_type": "execute_result"
    }
   ],
   "source": [
    "x = x.squeeze()\n",
    "x"
   ]
  },
  {
   "cell_type": "code",
   "execution_count": 12,
   "metadata": {
    "colab": {
     "base_uri": "https://localhost:8080/"
    },
    "id": "JSNWvzW7VAwQ",
    "outputId": "5f48a39f-5a53-495a-e594-7212b4e4fd7d"
   },
   "outputs": [
    {
     "name": "stdout",
     "output_type": "stream",
     "text": [
      "tensor([[1., 0., 0., 0., 0.],\n",
      "        [0., 1., 0., 0., 0.],\n",
      "        [0., 0., 1., 0., 0.],\n",
      "        [0., 0., 0., 1., 0.],\n",
      "        [0., 0., 0., 0., 1.]]) \n",
      "\n",
      "tensor([[0., 0., 0., 0., 0.],\n",
      "        [0., 0., 0., 0., 0.],\n",
      "        [0., 0., 0., 0., 0.],\n",
      "        [0., 0., 0., 0., 0.],\n",
      "        [0., 0., 0., 0., 0.]]) \n",
      "\n",
      "tensor([[1., 1., 1., 1., 1.],\n",
      "        [1., 1., 1., 1., 1.],\n",
      "        [1., 1., 1., 1., 1.],\n",
      "        [1., 1., 1., 1., 1.],\n",
      "        [1., 1., 1., 1., 1.]]) \n",
      "\n",
      "tensor([[7., 7., 7., 7., 7.],\n",
      "        [7., 7., 7., 7., 7.],\n",
      "        [7., 7., 7., 7., 7.],\n",
      "        [7., 7., 7., 7., 7.],\n",
      "        [7., 7., 7., 7., 7.]]) \n",
      "\n"
     ]
    }
   ],
   "source": [
    "# Some useful short hands\n",
    "I = torch.eye(5)\n",
    "zeros = torch.zeros((n, k))\n",
    "ones = torch.ones((n, k))\n",
    "sevens = ones * 7\n",
    "\n",
    "print(I, \"\\n\")\n",
    "print(zeros, \"\\n\")\n",
    "print(ones, \"\\n\")\n",
    "print(sevens, \"\\n\")"
   ]
  },
  {
   "cell_type": "code",
   "execution_count": 13,
   "metadata": {
    "colab": {
     "base_uri": "https://localhost:8080/"
    },
    "id": "k12rienDV2jc",
    "outputId": "0e5640b6-dc86-4750-a326-4cd7b677ad62"
   },
   "outputs": [
    {
     "data": {
      "text/plain": [
       "tensor([[ 0.,  1.,  2.,  3.,  4.],\n",
       "        [ 5.,  6.,  7.,  8.,  9.],\n",
       "        [10., 11., 12., 13., 14.],\n",
       "        [15., 16., 17., 18., 19.],\n",
       "        [20., 21., 22., 23., 24.]])"
      ]
     },
     "execution_count": 13,
     "metadata": {},
     "output_type": "execute_result"
    }
   ],
   "source": [
    "x.type(torch.float)"
   ]
  },
  {
   "cell_type": "markdown",
   "metadata": {
    "id": "fNzLigE-VuRO"
   },
   "source": [
    "## How about some math"
   ]
  },
  {
   "cell_type": "code",
   "execution_count": 14,
   "metadata": {
    "colab": {
     "base_uri": "https://localhost:8080/"
    },
    "id": "gBsE0ifZVwzY",
    "outputId": "04251c0e-a0bd-479b-f967-32465460f645"
   },
   "outputs": [
    {
     "data": {
      "text/plain": [
       "tensor([[ 0,  1,  2,  3,  4],\n",
       "        [ 5,  6,  7,  8,  9],\n",
       "        [10, 11, 12, 13, 14],\n",
       "        [15, 16, 17, 18, 19],\n",
       "        [20, 21, 22, 23, 24]])"
      ]
     },
     "execution_count": 14,
     "metadata": {},
     "output_type": "execute_result"
    }
   ],
   "source": [
    "x"
   ]
  },
  {
   "cell_type": "code",
   "execution_count": 15,
   "metadata": {
    "colab": {
     "base_uri": "https://localhost:8080/"
    },
    "id": "J3_SYZ46TAvG",
    "outputId": "bc2703c1-7c93-48d3-bf3c-61e1da8ee271"
   },
   "outputs": [
    {
     "data": {
      "text/plain": [
       "tensor([[  0,   1,   4,   9,  16],\n",
       "        [ 25,  36,  49,  64,  81],\n",
       "        [100, 121, 144, 169, 196],\n",
       "        [225, 256, 289, 324, 361],\n",
       "        [400, 441, 484, 529, 576]])"
      ]
     },
     "execution_count": 15,
     "metadata": {},
     "output_type": "execute_result"
    }
   ],
   "source": [
    "x ** 2"
   ]
  },
  {
   "cell_type": "code",
   "execution_count": 16,
   "metadata": {
    "colab": {
     "base_uri": "https://localhost:8080/"
    },
    "id": "fle2CPLETBul",
    "outputId": "e23afc18-f4de-41b4-f6df-632adb367f16"
   },
   "outputs": [
    {
     "data": {
      "text/plain": [
       "tensor([[10, 11, 12, 13, 14],\n",
       "        [15, 16, 17, 18, 19],\n",
       "        [20, 21, 22, 23, 24],\n",
       "        [25, 26, 27, 28, 29],\n",
       "        [30, 31, 32, 33, 34]])"
      ]
     },
     "execution_count": 16,
     "metadata": {},
     "output_type": "execute_result"
    }
   ],
   "source": [
    "x + 10"
   ]
  },
  {
   "cell_type": "code",
   "execution_count": 17,
   "metadata": {
    "colab": {
     "base_uri": "https://localhost:8080/"
    },
    "id": "xt2DQH-BWOj4",
    "outputId": "825cefed-11fe-43cb-9dbb-b13057d6373e"
   },
   "outputs": [
    {
     "data": {
      "text/plain": [
       "tensor([[1.0000, 0.5000, 0.3333, 0.2500, 0.2000],\n",
       "        [0.1667, 0.1429, 0.1250, 0.1111, 0.1000],\n",
       "        [0.0909, 0.0833, 0.0769, 0.0714, 0.0667],\n",
       "        [0.0625, 0.0588, 0.0556, 0.0526, 0.0500],\n",
       "        [0.0476, 0.0455, 0.0435, 0.0417, 0.0400]])"
      ]
     },
     "execution_count": 17,
     "metadata": {},
     "output_type": "execute_result"
    }
   ],
   "source": [
    "1 / (x + 1)"
   ]
  },
  {
   "cell_type": "code",
   "execution_count": 18,
   "metadata": {
    "colab": {
     "base_uri": "https://localhost:8080/"
    },
    "id": "dVZCyhY-TITp",
    "outputId": "cb729da8-673e-4c27-f944-9dae04b30db1"
   },
   "outputs": [
    {
     "name": "stdout",
     "output_type": "stream",
     "text": [
      "tensor([[ 0,  1,  2,  3,  4],\n",
      "        [ 5,  6,  7,  8,  9],\n",
      "        [10, 11, 12, 13, 14],\n",
      "        [15, 16, 17, 18, 19],\n",
      "        [20, 21, 22, 23, 24]])\n"
     ]
    },
    {
     "data": {
      "text/plain": [
       "tensor([[ 1,  3,  5,  7,  9],\n",
       "        [ 6,  8, 10, 12, 14],\n",
       "        [11, 13, 15, 17, 19],\n",
       "        [16, 18, 20, 22, 24],\n",
       "        [21, 23, 25, 27, 29]])"
      ]
     },
     "execution_count": 18,
     "metadata": {},
     "output_type": "execute_result"
    }
   ],
   "source": [
    "print(x)\n",
    "x + torch.tensor([1, 2, 3, 4, 5])"
   ]
  },
  {
   "cell_type": "code",
   "execution_count": 19,
   "metadata": {
    "colab": {
     "base_uri": "https://localhost:8080/"
    },
    "id": "pnR82fyoSdlh",
    "outputId": "b8bae8af-ce45-45e0-f5fd-26ecd11ed40a"
   },
   "outputs": [
    {
     "data": {
      "text/plain": [
       "tensor([[ 3.8658, 14.6096, 13.3883, 11.6447, 24.4902],\n",
       "        [22.9722, 22.6987,  2.5145,  4.5659, 11.7262],\n",
       "        [14.0653,  6.0446,  0.0614,  7.7216, 17.2596],\n",
       "        [24.7141, 19.8547,  7.1976, 16.0299,  9.6410],\n",
       "        [24.5767, 15.6291,  1.9467, 11.8841, 16.7346]])"
      ]
     },
     "execution_count": 19,
     "metadata": {},
     "output_type": "execute_result"
    }
   ],
   "source": [
    "y = torch.rand(5, 5) * 25\n",
    "y"
   ]
  },
  {
   "cell_type": "code",
   "execution_count": 20,
   "metadata": {
    "colab": {
     "base_uri": "https://localhost:8080/"
    },
    "id": "NEdM-7HiSvpN",
    "outputId": "db68f983-e808-4634-8d0a-b96fd3081aca"
   },
   "outputs": [
    {
     "data": {
      "text/plain": [
       "tensor([[  0.0000,  14.6096,  26.7766,  34.9342,  97.9609],\n",
       "        [114.8609, 136.1922,  17.6018,  36.5272, 105.5357],\n",
       "        [140.6526,  66.4904,   0.7363, 100.3813, 241.6348],\n",
       "        [370.7120, 317.6751, 122.3600, 288.5389, 183.1792],\n",
       "        [491.5334, 328.2102,  42.8279, 273.3351, 401.6313]])"
      ]
     },
     "execution_count": 20,
     "metadata": {},
     "output_type": "execute_result"
    }
   ],
   "source": [
    "x * y"
   ]
  },
  {
   "cell_type": "code",
   "execution_count": 21,
   "metadata": {
    "colab": {
     "base_uri": "https://localhost:8080/"
    },
    "id": "UCqxa4JjYyUc",
    "outputId": "d79b0b4a-0514-4d0f-f6e6-e49b6c900993"
   },
   "outputs": [
    {
     "name": "stdout",
     "output_type": "stream",
     "text": [
      "a: tensor([[0.1036, 0.7588],\n",
      "        [0.4610, 0.8765],\n",
      "        [0.9634, 0.3032]])\n",
      "b: tensor([[0.6995],\n",
      "        [0.9270]])\n",
      "c: tensor([[0.7759],\n",
      "        [1.1350],\n",
      "        [0.9550]])\n"
     ]
    }
   ],
   "source": [
    "a = torch.rand(3, 2)\n",
    "b = torch.rand(2, 1)\n",
    "c = torch.matmul(a, b)\n",
    "print(\"a:\", a)\n",
    "print(\"b:\", b)\n",
    "print(\"c:\", c)"
   ]
  },
  {
   "cell_type": "code",
   "execution_count": 22,
   "metadata": {
    "colab": {
     "base_uri": "https://localhost:8080/"
    },
    "id": "PEhKahIvS0id",
    "outputId": "1b5fdfb5-55fc-4e07-b65e-ca1a1da5ba62"
   },
   "outputs": [
    {
     "data": {
      "text/plain": [
       "tensor([[ 0,  5, 10, 15, 20],\n",
       "        [ 1,  6, 11, 16, 21],\n",
       "        [ 2,  7, 12, 17, 22],\n",
       "        [ 3,  8, 13, 18, 23],\n",
       "        [ 4,  9, 14, 19, 24]])"
      ]
     },
     "execution_count": 22,
     "metadata": {},
     "output_type": "execute_result"
    }
   ],
   "source": [
    "x.T"
   ]
  },
  {
   "cell_type": "markdown",
   "metadata": {
    "id": "00JZNEvdTrLz"
   },
   "source": [
    "## Lets work with some data"
   ]
  },
  {
   "cell_type": "code",
   "execution_count": 23,
   "metadata": {
    "colab": {
     "base_uri": "https://localhost:8080/"
    },
    "id": "OuSMXYC2OLhU",
    "outputId": "60a58ed2-4466-4da2-a959-915f58d1ec40"
   },
   "outputs": [
    {
     "name": "stdout",
     "output_type": "stream",
     "text": [
      "   longitude  latitude  housing_median_age  total_rooms  total_bedrooms  \\\n",
      "0    -114.31     34.19                15.0       5612.0          1283.0   \n",
      "1    -114.47     34.40                19.0       7650.0          1901.0   \n",
      "2    -114.56     33.69                17.0        720.0           174.0   \n",
      "3    -114.57     33.64                14.0       1501.0           337.0   \n",
      "4    -114.57     33.57                20.0       1454.0           326.0   \n",
      "\n",
      "   population  households  median_income  median_house_value  \n",
      "0      1015.0       472.0         1.4936             66900.0  \n",
      "1      1129.0       463.0         1.8200             80100.0  \n",
      "2       333.0       117.0         1.6509             85700.0  \n",
      "3       515.0       226.0         3.1917             73400.0  \n",
      "4       624.0       262.0         1.9250             65500.0  \n"
     ]
    }
   ],
   "source": [
    "traindf = pd.read_csv(\"california_housing_train.csv\")\n",
    "testdf = pd.read_csv(\"california_housing_test.csv\")\n",
    "\n",
    "print(traindf[:5])"
   ]
  },
  {
   "cell_type": "code",
   "execution_count": 24,
   "metadata": {
    "colab": {
     "base_uri": "https://localhost:8080/"
    },
    "id": "_wdZp9vo8YJl",
    "outputId": "890e65f7-01d2-4a8a-f53d-efaac17d236b"
   },
   "outputs": [
    {
     "data": {
      "text/plain": [
       "longitude              -114.3100\n",
       "latitude                 34.1900\n",
       "housing_median_age       15.0000\n",
       "total_rooms            5612.0000\n",
       "total_bedrooms         1283.0000\n",
       "population             1015.0000\n",
       "households              472.0000\n",
       "median_income             1.4936\n",
       "median_house_value    66900.0000\n",
       "Name: 0, dtype: float64"
      ]
     },
     "execution_count": 24,
     "metadata": {},
     "output_type": "execute_result"
    }
   ],
   "source": [
    "traindf.iloc[0]"
   ]
  },
  {
   "cell_type": "code",
   "execution_count": 25,
   "metadata": {
    "id": "LergLj3cA7km"
   },
   "outputs": [],
   "source": [
    "sc = MinMaxScaler()\n",
    "train_numpy = sc.fit_transform(traindf.values)\n",
    "test_numpy = sc.transform(testdf.values)"
   ]
  },
  {
   "cell_type": "code",
   "execution_count": 26,
   "metadata": {
    "colab": {
     "base_uri": "https://localhost:8080/"
    },
    "id": "uuuVhYKnBfvM",
    "outputId": "b394c22b-ccb5-4ea2-b455-5a47b487f056"
   },
   "outputs": [
    {
     "data": {
      "text/plain": [
       "array([[1.        , 0.17534538, 0.2745098 , 0.14788454, 0.19894475,\n",
       "        0.02836402, 0.07745437, 0.06853009, 0.10701193],\n",
       "       [0.98406375, 0.19766206, 0.35294118, 0.20160801, 0.29484792,\n",
       "        0.03155918, 0.07597435, 0.09104012, 0.13422831],\n",
       "       [0.9750996 , 0.12221041, 0.31372549, 0.01892711, 0.02684668,\n",
       "        0.00924914, 0.01907581, 0.07937822, 0.14577466],\n",
       "       [0.97410359, 0.11689692, 0.25490196, 0.03951496, 0.05214153,\n",
       "        0.01435018, 0.03700049, 0.18563882, 0.12041394],\n",
       "       [0.97410359, 0.10945802, 0.37254902, 0.038276  , 0.05043451,\n",
       "        0.0174052 , 0.04292057, 0.0982814 , 0.10412534]])"
      ]
     },
     "execution_count": 26,
     "metadata": {},
     "output_type": "execute_result"
    }
   ],
   "source": [
    "train_numpy[:5]"
   ]
  },
  {
   "cell_type": "code",
   "execution_count": 27,
   "metadata": {
    "colab": {
     "base_uri": "https://localhost:8080/"
    },
    "id": "WXyzi5yNRv9n",
    "outputId": "81ecbc86-8ccc-4220-9b48-b7eb92993b26"
   },
   "outputs": [
    {
     "name": "stdout",
     "output_type": "stream",
     "text": [
      "tensor([[1.0000, 0.1753, 0.2745, 0.1479, 0.1989, 0.0284, 0.0775, 0.0685, 0.1070],\n",
      "        [0.9841, 0.1977, 0.3529, 0.2016, 0.2948, 0.0316, 0.0760, 0.0910, 0.1342],\n",
      "        [0.9751, 0.1222, 0.3137, 0.0189, 0.0268, 0.0092, 0.0191, 0.0794, 0.1458],\n",
      "        [0.9741, 0.1169, 0.2549, 0.0395, 0.0521, 0.0144, 0.0370, 0.1856, 0.1204],\n",
      "        [0.9741, 0.1095, 0.3725, 0.0383, 0.0504, 0.0174, 0.0429, 0.0983, 0.1041]],\n",
      "       dtype=torch.float64)\n"
     ]
    }
   ],
   "source": [
    "train_tensor = torch.tensor(train_numpy)\n",
    "print(train_tensor[:5])"
   ]
  },
  {
   "cell_type": "code",
   "execution_count": 28,
   "metadata": {
    "id": "umsvoptpOS5a"
   },
   "outputs": [],
   "source": [
    "class CustomHousingDataset(torch.utils.data.Dataset):\n",
    "    def __init__(self, file, scaler):\n",
    "        self.df = pd.read_csv(file)\n",
    "        self.sc = scaler\n",
    "\n",
    "    def __len__(self):\n",
    "        return self.df.shape[0]\n",
    "\n",
    "    def __getitem__(self, idx):\n",
    "        raw = self.df.iloc[idx].values\n",
    "        if type(idx) == int:\n",
    "            raw = raw.reshape(1, -1)\n",
    "        raw = self.sc.transform(raw)\n",
    "        data = torch.tensor(raw[:, :-1], dtype=torch.float32)\n",
    "        label = torch.tensor(raw[:, -1], dtype=torch.float32)\n",
    "        return data, label"
   ]
  },
  {
   "cell_type": "code",
   "execution_count": 29,
   "metadata": {
    "id": "Blrs0xRwP6gP"
   },
   "outputs": [],
   "source": [
    "train_data = CustomHousingDataset(\"california_housing_train.csv\", sc)\n",
    "test_data = CustomHousingDataset(\"california_housing_test.csv\", sc)\n",
    "\n",
    "train_loader = DataLoader(train_data, batch_size=64, shuffle=True)\n",
    "test_loader = DataLoader(test_data, batch_size=64, shuffle=True)"
   ]
  },
  {
   "cell_type": "code",
   "execution_count": 30,
   "metadata": {},
   "outputs": [
    {
     "data": {
      "text/plain": [
       "torch.Size([1, 8])"
      ]
     },
     "execution_count": 30,
     "metadata": {},
     "output_type": "execute_result"
    }
   ],
   "source": [
    "train_data[0][0].shape"
   ]
  },
  {
   "cell_type": "code",
   "execution_count": 31,
   "metadata": {
    "colab": {
     "base_uri": "https://localhost:8080/"
    },
    "id": "Mi516cGHB71J",
    "outputId": "c33a2b1c-24dd-4ded-953f-b8700e16ecb7"
   },
   "outputs": [
    {
     "data": {
      "text/plain": [
       "(tensor([[0.8725, 0.0266, 0.1373, 0.0575, 0.0475, 0.0279, 0.0470, 0.4056],\n",
       "         [0.8725, 0.0159, 0.5686, 0.0246, 0.0273, 0.0181, 0.0242, 0.1432],\n",
       "         [0.8715, 0.0701, 0.7059, 0.0186, 0.0289, 0.0108, 0.0232, 0.1346],\n",
       "         [0.8715, 0.0351, 0.0392, 0.0429, 0.0490, 0.0281, 0.0511, 0.2503],\n",
       "         [0.8695, 0.0531, 0.3725, 0.0295, 0.0377, 0.0214, 0.0377, 0.1239],\n",
       "         [0.8695, 0.0531, 0.3137, 0.0265, 0.0357, 0.0208, 0.0355, 0.1066],\n",
       "         [0.8675, 0.0276, 0.4314, 0.0323, 0.0363, 0.0159, 0.0385, 0.1839],\n",
       "         [0.8625, 0.0266, 0.3333, 0.0412, 0.0526, 0.0325, 0.0562, 0.1158],\n",
       "         [0.8596, 0.0223, 0.2941, 0.0091, 0.0152, 0.0034, 0.0087, 0.1099],\n",
       "         [0.8586, 0.0871, 0.3529, 0.0197, 0.0368, 0.0133, 0.0276, 0.0878]]),\n",
       " tensor([0.2988, 0.1637, 0.1186, 0.1406, 0.0969, 0.0953, 0.2268, 0.0829, 0.1495,\n",
       "         0.0722]))"
      ]
     },
     "execution_count": 31,
     "metadata": {},
     "output_type": "execute_result"
    }
   ],
   "source": [
    "train_data[100:110]"
   ]
  },
  {
   "cell_type": "markdown",
   "metadata": {
    "id": "KT0Cb12ndYow"
   },
   "source": [
    "## LETS MODEL\n",
    "We'll start by defining some basic models, loss functions, and optimizers. These are the fundamental building blocks for any Deep Learning platform.\n",
    "\n",
    "Some common loss functions:\n",
    "  - CrossEntropy\n",
    "  - BCE (binary cross entropy)\n",
    "  - L1\n",
    "  - MSE (mean sqaure error aka L2)\n",
    "\n",
    "And for optimizers we use some form of gradient descent:\n",
    "- SGD (stochastic gradient decent)\n",
    "- RMSprop\n",
    "- Adagrad\n",
    "- Adam\n",
    "\n",
    "Once we get here, would could also do things like schedule the learning rate, etc."
   ]
  },
  {
   "cell_type": "code",
   "execution_count": 32,
   "metadata": {
    "id": "WP3bROntQYnZ"
   },
   "outputs": [],
   "source": [
    "class FeedForward(nn.Module):\n",
    "    def __init__(self):\n",
    "        super(FeedForward, self).__init__()\n",
    "        self.linear1 = nn.Linear(8, 32)\n",
    "        self.relu1 = nn.LeakyReLU()\n",
    "        self.linear2 = nn.Linear(32, 16)\n",
    "        self.relu2 = nn.LeakyReLU()\n",
    "        self.linear_out = nn.Linear(16, 1)\n",
    "\n",
    "    def forward(self, x):\n",
    "        x = self.linear1(x)\n",
    "        x = self.relu1(x)\n",
    "        x = self.linear2(x)\n",
    "        x = self.relu2(x)\n",
    "        x = self.linear_out(x)\n",
    "        return x"
   ]
  },
  {
   "cell_type": "code",
   "execution_count": 33,
   "metadata": {
    "colab": {
     "base_uri": "https://localhost:8080/"
    },
    "id": "fLc_7fj0YTgB",
    "outputId": "bcfa1570-aaee-42e6-a049-2820d0cfeafd"
   },
   "outputs": [
    {
     "name": "stdout",
     "output_type": "stream",
     "text": [
      "FeedForward(\n",
      "  (linear1): Linear(in_features=8, out_features=32, bias=True)\n",
      "  (relu1): LeakyReLU(negative_slope=0.01)\n",
      "  (linear2): Linear(in_features=32, out_features=16, bias=True)\n",
      "  (relu2): LeakyReLU(negative_slope=0.01)\n",
      "  (linear_out): Linear(in_features=16, out_features=1, bias=True)\n",
      ")\n"
     ]
    }
   ],
   "source": [
    "ff = FeedForward()\n",
    "print(ff)"
   ]
  },
  {
   "cell_type": "code",
   "execution_count": 34,
   "metadata": {
    "colab": {
     "base_uri": "https://localhost:8080/"
    },
    "id": "tiDqxsVEYh0Y",
    "outputId": "ced66575-020a-47f7-9de8-7ebf5d8bc754"
   },
   "outputs": [
    {
     "name": "stdout",
     "output_type": "stream",
     "text": [
      "a: tensor([[1.0000, 0.1753, 0.2745, 0.1479, 0.1989, 0.0284, 0.0775, 0.0685]])\n",
      "b: tensor([0.1070])\n",
      "prediction: tensor([[-0.0582]])\n",
      "target: tensor([0.1070])\n",
      "error: tensor(0.0273)\n"
     ]
    }
   ],
   "source": [
    "loss_func = nn.MSELoss()\n",
    "optimizer = torch.optim.Adam(ff.parameters(), lr=1e-2)\n",
    "ff.eval()\n",
    "a, b = train_data[0]\n",
    "with torch.no_grad():\n",
    "    pred = ff(a)\n",
    "print(\"a:\", a)\n",
    "print(\"b:\", b)\n",
    "print(\"prediction:\", pred)\n",
    "print(\"target:\", b)\n",
    "print(\"error:\", loss_func(pred, b.unsqueeze(0)))"
   ]
  },
  {
   "cell_type": "markdown",
   "metadata": {
    "id": "kToju96kfuJp"
   },
   "source": [
    "### This is what we want to do, over the entire training data."
   ]
  },
  {
   "cell_type": "code",
   "execution_count": 35,
   "metadata": {
    "id": "bn5wlVyrdIkP"
   },
   "outputs": [],
   "source": [
    "def train(dataloader, model, loss_func, optimizer):\n",
    "    model.train()\n",
    "    train_loss = []\n",
    "\n",
    "    now = datetime.datetime.now()\n",
    "    for batch, (X, y) in enumerate(dataloader):\n",
    "        # ignore the first time we see this\n",
    "        # second time why is gpu better than cpu for this?\n",
    "        X, y = X.to(device), y.to(device)\n",
    "\n",
    "        # make some predictions and get the error\n",
    "        pred = model(X)\n",
    "        loss = loss_func(pred, y.unsqueeze(1))\n",
    "\n",
    "        # where the magic happens\n",
    "        # backpropogation\n",
    "        optimizer.zero_grad()\n",
    "        loss.backward()\n",
    "        optimizer.step()\n",
    "\n",
    "        if batch % 10 == 0:\n",
    "            loss, current = loss.item(), batch * len(X)\n",
    "            iters = 10 * len(X)\n",
    "            then = datetime.datetime.now()\n",
    "            iters /= (then - now).total_seconds()\n",
    "            print(f\"loss: {loss:>6f} [{current:>5d}/{17000}] ({iters:.1f} its/sec)\")\n",
    "            now = then\n",
    "            train_loss.append(loss)\n",
    "    return train_loss"
   ]
  },
  {
   "cell_type": "code",
   "execution_count": 36,
   "metadata": {
    "id": "bDgB95AGjsGs"
   },
   "outputs": [],
   "source": [
    "def test(dataloader, model, loss_func):\n",
    "    size = len(dataloader)\n",
    "    num_batches = 0\n",
    "    model.eval()\n",
    "    test_loss = 0\n",
    "\n",
    "    with torch.no_grad():\n",
    "        for X, y in dataloader:\n",
    "            X, y = X.to(device), y.to(device)\n",
    "            pred = model(X)\n",
    "            test_loss += loss_func(pred, y.unsqueeze(1)).item()\n",
    "            num_batches = num_batches + 1\n",
    "    test_loss /= num_batches\n",
    "    print(f\"Avg Loss: {test_loss:>8f}\\n\")\n",
    "    return test_loss"
   ]
  },
  {
   "cell_type": "code",
   "execution_count": 37,
   "metadata": {
    "colab": {
     "base_uri": "https://localhost:8080/"
    },
    "id": "XwUks9nVdIX8",
    "outputId": "a5eab4a5-35b4-46dc-8c80-efc3361c00af"
   },
   "outputs": [
    {
     "name": "stdout",
     "output_type": "stream",
     "text": [
      "Epoch 1\n",
      "------------------------------- \n",
      "\n",
      "loss: 0.339684 [    0/17000] (35682.4 its/sec)\n",
      "loss: 0.237372 [  640/17000] (21187.8 its/sec)\n",
      "loss: 0.193695 [ 1280/17000] (20077.8 its/sec)\n",
      "loss: 0.117965 [ 1920/17000] (21216.6 its/sec)\n",
      "loss: 0.129205 [ 2560/17000] (20824.5 its/sec)\n",
      "loss: 0.051477 [ 3200/17000] (21084.5 its/sec)\n",
      "loss: 0.074508 [ 3840/17000] (21254.0 its/sec)\n",
      "loss: 0.062185 [ 4480/17000] (22161.4 its/sec)\n",
      "loss: 0.050069 [ 5120/17000] (23026.6 its/sec)\n",
      "loss: 0.052575 [ 5760/17000] (23285.4 its/sec)\n",
      "loss: 0.051645 [ 6400/17000] (22332.3 its/sec)\n",
      "loss: 0.064393 [ 7040/17000] (21585.2 its/sec)\n",
      "loss: 0.044232 [ 7680/17000] (21887.8 its/sec)\n",
      "loss: 0.040542 [ 8320/17000] (21773.2 its/sec)\n",
      "loss: 0.037994 [ 8960/17000] (21529.2 its/sec)\n",
      "loss: 0.036660 [ 9600/17000] (22805.8 its/sec)\n",
      "loss: 0.025840 [10240/17000] (23739.8 its/sec)\n",
      "loss: 0.031585 [10880/17000] (21540.8 its/sec)\n",
      "loss: 0.030796 [11520/17000] (22502.7 its/sec)\n",
      "loss: 0.032593 [12160/17000] (21959.2 its/sec)\n",
      "loss: 0.036133 [12800/17000] (22990.2 its/sec)\n",
      "loss: 0.026763 [13440/17000] (21895.3 its/sec)\n",
      "loss: 0.017228 [14080/17000] (21054.7 its/sec)\n",
      "loss: 0.025429 [14720/17000] (20782.6 its/sec)\n",
      "loss: 0.016709 [15360/17000] (21575.0 its/sec)\n",
      "loss: 0.020403 [16000/17000] (21624.5 its/sec)\n",
      "loss: 0.015786 [16640/17000] (22872.7 its/sec)\n",
      "Avg Loss: 0.022217\n",
      "\n",
      "Epoch 2\n",
      "------------------------------- \n",
      "\n",
      "loss: 0.016365 [    0/17000] (158730.2 its/sec)\n",
      "loss: 0.019551 [  640/17000] (23117.2 its/sec)\n",
      "loss: 0.015366 [ 1280/17000] (23137.3 its/sec)\n",
      "loss: 0.016743 [ 1920/17000] (23041.5 its/sec)\n",
      "loss: 0.030216 [ 2560/17000] (21890.8 its/sec)\n",
      "loss: 0.030017 [ 3200/17000] (23367.0 its/sec)\n",
      "loss: 0.024478 [ 3840/17000] (24097.3 its/sec)\n",
      "loss: 0.018013 [ 4480/17000] (24346.6 its/sec)\n",
      "loss: 0.020102 [ 5120/17000] (22188.3 its/sec)\n",
      "loss: 0.021163 [ 5760/17000] (21789.5 its/sec)\n",
      "loss: 0.028294 [ 6400/17000] (22993.5 its/sec)\n",
      "loss: 0.024672 [ 7040/17000] (22666.9 its/sec)\n",
      "loss: 0.026851 [ 7680/17000] (23222.1 its/sec)\n",
      "loss: 0.027215 [ 8320/17000] (23893.1 its/sec)\n",
      "loss: 0.019213 [ 8960/17000] (23464.7 its/sec)\n",
      "loss: 0.012758 [ 9600/17000] (23569.3 its/sec)\n",
      "loss: 0.041328 [10240/17000] (23282.9 its/sec)\n",
      "loss: 0.033352 [10880/17000] (22333.1 its/sec)\n",
      "loss: 0.014292 [11520/17000] (21978.0 its/sec)\n",
      "loss: 0.014585 [12160/17000] (22116.2 its/sec)\n",
      "loss: 0.011424 [12800/17000] (22820.5 its/sec)\n",
      "loss: 0.018417 [13440/17000] (23836.1 its/sec)\n",
      "loss: 0.012830 [14080/17000] (23372.2 its/sec)\n",
      "loss: 0.030688 [14720/17000] (24060.2 its/sec)\n",
      "loss: 0.019991 [15360/17000] (23485.4 its/sec)\n",
      "loss: 0.028367 [16000/17000] (21528.5 its/sec)\n",
      "loss: 0.021837 [16640/17000] (23275.3 its/sec)\n",
      "Avg Loss: 0.020745\n",
      "\n",
      "Epoch 3\n",
      "------------------------------- \n",
      "\n",
      "loss: 0.012396 [    0/17000] (168999.2 its/sec)\n",
      "loss: 0.018665 [  640/17000] (22332.3 its/sec)\n",
      "loss: 0.019772 [ 1280/17000] (20765.7 its/sec)\n",
      "loss: 0.015737 [ 1920/17000] (22774.2 its/sec)\n",
      "loss: 0.016383 [ 2560/17000] (23624.1 its/sec)\n",
      "loss: 0.026422 [ 3200/17000] (23923.4 its/sec)\n",
      "loss: 0.021713 [ 3840/17000] (23996.1 its/sec)\n",
      "loss: 0.013995 [ 4480/17000] (23433.8 its/sec)\n",
      "loss: 0.027281 [ 5120/17000] (23144.0 its/sec)\n",
      "loss: 0.013631 [ 5760/17000] (22598.1 its/sec)\n",
      "loss: 0.016277 [ 6400/17000] (21507.5 its/sec)\n",
      "loss: 0.019525 [ 7040/17000] (23563.2 its/sec)\n",
      "loss: 0.027915 [ 7680/17000] (23281.2 its/sec)\n",
      "loss: 0.016108 [ 8320/17000] (23563.2 its/sec)\n",
      "loss: 0.017101 [ 8960/17000] (23997.9 its/sec)\n",
      "loss: 0.026599 [ 9600/17000] (23925.2 its/sec)\n",
      "loss: 0.027318 [10240/17000] (23361.1 its/sec)\n",
      "loss: 0.036685 [10880/17000] (21950.9 its/sec)\n",
      "loss: 0.022466 [11520/17000] (22137.7 its/sec)\n",
      "loss: 0.015879 [12160/17000] (23750.3 its/sec)\n",
      "loss: 0.023697 [12800/17000] (23703.7 its/sec)\n",
      "loss: 0.021097 [13440/17000] (23574.5 its/sec)\n",
      "loss: 0.020640 [14080/17000] (23535.5 its/sec)\n",
      "loss: 0.026409 [14720/17000] (23828.1 its/sec)\n",
      "loss: 0.015747 [15360/17000] (23481.9 its/sec)\n",
      "loss: 0.013645 [16000/17000] (22648.5 its/sec)\n",
      "loss: 0.012983 [16640/17000] (22485.3 its/sec)\n",
      "Avg Loss: 0.019346\n",
      "\n",
      "Epoch 4\n",
      "------------------------------- \n",
      "\n",
      "loss: 0.023367 [    0/17000] (193646.0 its/sec)\n",
      "loss: 0.020120 [  640/17000] (21387.5 its/sec)\n",
      "loss: 0.019069 [ 1280/17000] (21107.5 its/sec)\n",
      "loss: 0.017813 [ 1920/17000] (21268.1 its/sec)\n",
      "loss: 0.019846 [ 2560/17000] (23083.9 its/sec)\n",
      "loss: 0.015501 [ 3200/17000] (23130.6 its/sec)\n",
      "loss: 0.020220 [ 3840/17000] (22026.4 its/sec)\n",
      "loss: 0.015326 [ 4480/17000] (23301.5 its/sec)\n",
      "loss: 0.030101 [ 5120/17000] (23731.0 its/sec)\n",
      "loss: 0.018689 [ 5760/17000] (21697.9 its/sec)\n",
      "loss: 0.013197 [ 6400/17000] (21673.6 its/sec)\n",
      "loss: 0.022729 [ 7040/17000] (21304.9 its/sec)\n",
      "loss: 0.017103 [ 7680/17000] (22642.0 its/sec)\n",
      "loss: 0.020920 [ 8320/17000] (22954.7 its/sec)\n",
      "loss: 0.018580 [ 8960/17000] (23299.0 its/sec)\n",
      "loss: 0.015316 [ 9600/17000] (23620.6 its/sec)\n",
      "loss: 0.013976 [10240/17000] (24019.5 its/sec)\n",
      "loss: 0.018549 [10880/17000] (23172.5 its/sec)\n",
      "loss: 0.017599 [11520/17000] (22678.1 its/sec)\n",
      "loss: 0.019765 [12160/17000] (22577.3 its/sec)\n",
      "loss: 0.017925 [12800/17000] (23523.4 its/sec)\n",
      "loss: 0.021617 [13440/17000] (23924.3 its/sec)\n",
      "loss: 0.013948 [14080/17000] (24326.3 its/sec)\n",
      "loss: 0.019804 [14720/17000] (23381.6 its/sec)\n",
      "loss: 0.019983 [15360/17000] (23944.9 its/sec)\n",
      "loss: 0.021946 [16000/17000] (23269.3 its/sec)\n",
      "loss: 0.021126 [16640/17000] (22459.3 its/sec)\n",
      "Avg Loss: 0.018685\n",
      "\n",
      "Epoch 5\n",
      "------------------------------- \n",
      "\n",
      "loss: 0.027469 [    0/17000] (201829.1 its/sec)\n",
      "loss: 0.011775 [  640/17000] (23034.8 its/sec)\n",
      "loss: 0.018584 [ 1280/17000] (22766.9 its/sec)\n",
      "loss: 0.022899 [ 1920/17000] (23229.6 its/sec)\n",
      "loss: 0.007503 [ 2560/17000] (23458.7 its/sec)\n",
      "loss: 0.025125 [ 3200/17000] (24102.7 its/sec)\n",
      "loss: 0.017430 [ 3840/17000] (23913.6 its/sec)\n",
      "loss: 0.020348 [ 4480/17000] (24047.5 its/sec)\n",
      "loss: 0.016210 [ 5120/17000] (23055.6 its/sec)\n",
      "loss: 0.027925 [ 5760/17000] (23728.3 its/sec)\n",
      "loss: 0.019014 [ 6400/17000] (23105.5 its/sec)\n",
      "loss: 0.014512 [ 7040/17000] (21808.0 its/sec)\n",
      "loss: 0.012874 [ 7680/17000] (23279.5 its/sec)\n",
      "loss: 0.024847 [ 8320/17000] (23617.1 its/sec)\n",
      "loss: 0.014222 [ 8960/17000] (23363.6 its/sec)\n",
      "loss: 0.012038 [ 9600/17000] (24008.7 its/sec)\n",
      "loss: 0.021604 [10240/17000] (22046.9 its/sec)\n",
      "loss: 0.011618 [10880/17000] (23266.8 its/sec)\n",
      "loss: 0.016503 [11520/17000] (22968.7 its/sec)\n",
      "loss: 0.014792 [12160/17000] (22560.6 its/sec)\n",
      "loss: 0.017969 [12800/17000] (22738.6 its/sec)\n",
      "loss: 0.027688 [13440/17000] (23257.5 its/sec)\n",
      "loss: 0.022427 [14080/17000] (23520.8 its/sec)\n",
      "loss: 0.019085 [14720/17000] (23459.6 its/sec)\n",
      "loss: 0.032715 [15360/17000] (22258.5 its/sec)\n",
      "loss: 0.019514 [16000/17000] (22398.8 its/sec)\n",
      "loss: 0.016264 [16640/17000] (22482.2 its/sec)\n",
      "Avg Loss: 0.018095\n",
      "\n",
      "Epoch 6\n",
      "------------------------------- \n",
      "\n",
      "loss: 0.016759 [    0/17000] (160240.4 its/sec)\n",
      "loss: 0.019401 [  640/17000] (22115.5 its/sec)\n",
      "loss: 0.021632 [ 1280/17000] (23504.4 its/sec)\n",
      "loss: 0.010276 [ 1920/17000] (23301.5 its/sec)\n",
      "loss: 0.022549 [ 2560/17000] (22502.7 its/sec)\n",
      "loss: 0.034671 [ 3200/17000] (23182.5 its/sec)\n",
      "loss: 0.012376 [ 3840/17000] (23562.3 its/sec)\n",
      "loss: 0.023759 [ 4480/17000] (23761.8 its/sec)\n",
      "loss: 0.008377 [ 5120/17000] (19936.5 its/sec)\n",
      "loss: 0.015392 [ 5760/17000] (19424.0 its/sec)\n",
      "loss: 0.015660 [ 6400/17000] (21269.5 its/sec)\n",
      "loss: 0.016820 [ 7040/17000] (20757.0 its/sec)\n",
      "loss: 0.012836 [ 7680/17000] (21865.4 its/sec)\n",
      "loss: 0.016372 [ 8320/17000] (21904.3 its/sec)\n",
      "loss: 0.016119 [ 8960/17000] (22819.7 its/sec)\n",
      "loss: 0.008557 [ 9600/17000] (22335.5 its/sec)\n",
      "loss: 0.037085 [10240/17000] (22107.1 its/sec)\n",
      "loss: 0.020682 [10880/17000] (21751.7 its/sec)\n",
      "loss: 0.016257 [11520/17000] (21940.3 its/sec)\n",
      "loss: 0.012042 [12160/17000] (22127.7 its/sec)\n",
      "loss: 0.027505 [12800/17000] (23118.0 its/sec)\n",
      "loss: 0.020115 [13440/17000] (23064.7 its/sec)\n",
      "loss: 0.025122 [14080/17000] (23271.9 its/sec)\n",
      "loss: 0.021578 [14720/17000] (22278.7 its/sec)\n",
      "loss: 0.021509 [15360/17000] (22622.0 its/sec)\n",
      "loss: 0.012712 [16000/17000] (23580.6 its/sec)\n",
      "loss: 0.022451 [16640/17000] (23321.1 its/sec)\n",
      "Avg Loss: 0.018346\n",
      "\n",
      "Epoch 7\n",
      "------------------------------- \n",
      "\n",
      "loss: 0.032747 [    0/17000] (178124.1 its/sec)\n",
      "loss: 0.017081 [  640/17000] (21135.4 its/sec)\n",
      "loss: 0.011922 [ 1280/17000] (21371.1 its/sec)\n",
      "loss: 0.010986 [ 1920/17000] (21776.1 its/sec)\n",
      "loss: 0.011785 [ 2560/17000] (22405.8 its/sec)\n",
      "loss: 0.018775 [ 3200/17000] (23109.7 its/sec)\n",
      "loss: 0.016043 [ 3840/17000] (23903.8 its/sec)\n"
     ]
    },
    {
     "name": "stdout",
     "output_type": "stream",
     "text": [
      "loss: 0.017108 [ 4480/17000] (22944.8 its/sec)\n",
      "loss: 0.018275 [ 5120/17000] (22909.5 its/sec)\n",
      "loss: 0.014781 [ 5760/17000] (23396.1 its/sec)\n",
      "loss: 0.016504 [ 6400/17000] (23093.0 its/sec)\n",
      "loss: 0.017576 [ 7040/17000] (23099.7 its/sec)\n",
      "loss: 0.020871 [ 7680/17000] (23261.7 its/sec)\n",
      "loss: 0.016148 [ 8320/17000] (23318.5 its/sec)\n",
      "loss: 0.019093 [ 8960/17000] (23787.4 its/sec)\n",
      "loss: 0.029373 [ 9600/17000] (23119.7 its/sec)\n",
      "loss: 0.015126 [10240/17000] (23270.2 its/sec)\n",
      "loss: 0.029663 [10880/17000] (22812.3 its/sec)\n",
      "loss: 0.016273 [11520/17000] (23044.8 its/sec)\n",
      "loss: 0.015086 [12160/17000] (23410.6 its/sec)\n",
      "loss: 0.014612 [12800/17000] (23758.3 its/sec)\n",
      "loss: 0.019275 [13440/17000] (23004.2 its/sec)\n",
      "loss: 0.012685 [14080/17000] (22724.0 its/sec)\n",
      "loss: 0.008019 [14720/17000] (22246.2 its/sec)\n",
      "loss: 0.015415 [15360/17000] (22545.5 its/sec)\n",
      "loss: 0.018307 [16000/17000] (22754.7 its/sec)\n",
      "loss: 0.025463 [16640/17000] (22752.3 its/sec)\n",
      "Avg Loss: 0.017741\n",
      "\n",
      "Epoch 8\n",
      "------------------------------- \n",
      "\n",
      "loss: 0.013293 [    0/17000] (169716.3 its/sec)\n",
      "loss: 0.018269 [  640/17000] (22962.1 its/sec)\n",
      "loss: 0.017511 [ 1280/17000] (23285.4 its/sec)\n",
      "loss: 0.016140 [ 1920/17000] (22827.0 its/sec)\n",
      "loss: 0.014699 [ 2560/17000] (23271.0 its/sec)\n",
      "loss: 0.017199 [ 3200/17000] (23801.6 its/sec)\n",
      "loss: 0.014296 [ 3840/17000] (23518.2 its/sec)\n",
      "loss: 0.020068 [ 4480/17000] (23601.4 its/sec)\n",
      "loss: 0.031146 [ 5120/17000] (22565.4 its/sec)\n",
      "loss: 0.021512 [ 5760/17000] (23604.9 its/sec)\n",
      "loss: 0.012251 [ 6400/17000] (22951.4 its/sec)\n",
      "loss: 0.014529 [ 7040/17000] (22646.0 its/sec)\n",
      "loss: 0.015081 [ 7680/17000] (23412.4 its/sec)\n",
      "loss: 0.014959 [ 8320/17000] (23571.0 its/sec)\n",
      "loss: 0.012735 [ 8960/17000] (23496.6 its/sec)\n",
      "loss: 0.025463 [ 9600/17000] (23540.7 its/sec)\n",
      "loss: 0.018259 [10240/17000] (22334.7 its/sec)\n",
      "loss: 0.015418 [10880/17000] (23475.9 its/sec)\n",
      "loss: 0.018262 [11520/17000] (22718.4 its/sec)\n",
      "loss: 0.023445 [12160/17000] (22843.3 its/sec)\n",
      "loss: 0.023603 [12800/17000] (23659.0 its/sec)\n",
      "loss: 0.011098 [13440/17000] (23866.3 its/sec)\n",
      "loss: 0.014221 [14080/17000] (23820.2 its/sec)\n",
      "loss: 0.019384 [14720/17000] (23747.7 its/sec)\n",
      "loss: 0.024555 [15360/17000] (23224.6 its/sec)\n",
      "loss: 0.018954 [16000/17000] (24339.2 its/sec)\n",
      "loss: 0.011409 [16640/17000] (23175.0 its/sec)\n",
      "Avg Loss: 0.017966\n",
      "\n",
      "Epoch 9\n",
      "------------------------------- \n",
      "\n",
      "loss: 0.016627 [    0/17000] (161006.3 its/sec)\n",
      "loss: 0.013985 [  640/17000] (22833.5 its/sec)\n",
      "loss: 0.013587 [ 1280/17000] (23006.7 its/sec)\n",
      "loss: 0.019051 [ 1920/17000] (23228.0 its/sec)\n",
      "loss: 0.013244 [ 2560/17000] (23527.7 its/sec)\n",
      "loss: 0.012977 [ 3200/17000] (23891.3 its/sec)\n",
      "loss: 0.015923 [ 3840/17000] (23805.1 its/sec)\n",
      "loss: 0.013352 [ 4480/17000] (23891.3 its/sec)\n",
      "loss: 0.013763 [ 5120/17000] (23012.5 its/sec)\n",
      "loss: 0.015162 [ 5760/17000] (22530.5 its/sec)\n",
      "loss: 0.013381 [ 6400/17000] (23510.4 its/sec)\n",
      "loss: 0.013614 [ 7040/17000] (23401.2 its/sec)\n",
      "loss: 0.017333 [ 7680/17000] (23205.2 its/sec)\n",
      "loss: 0.014833 [ 8320/17000] (23575.3 its/sec)\n",
      "loss: 0.012318 [ 8960/17000] (23886.8 its/sec)\n",
      "loss: 0.017647 [ 9600/17000] (23916.3 its/sec)\n",
      "loss: 0.019588 [10240/17000] (23756.5 its/sec)\n",
      "loss: 0.018904 [10880/17000] (23312.6 its/sec)\n",
      "loss: 0.010439 [11520/17000] (23564.9 its/sec)\n",
      "loss: 0.018246 [12160/17000] (23353.4 its/sec)\n",
      "loss: 0.017136 [12800/17000] (23440.6 its/sec)\n",
      "loss: 0.016416 [13440/17000] (24047.5 its/sec)\n",
      "loss: 0.020233 [14080/17000] (24225.9 its/sec)\n",
      "loss: 0.021130 [14720/17000] (23600.6 its/sec)\n",
      "loss: 0.028257 [15360/17000] (23398.7 its/sec)\n",
      "loss: 0.032375 [16000/17000] (21148.6 its/sec)\n",
      "loss: 0.017392 [16640/17000] (23034.0 its/sec)\n",
      "Avg Loss: 0.018007\n",
      "\n",
      "Epoch 10\n",
      "------------------------------- \n",
      "\n",
      "loss: 0.025129 [    0/17000] (168598.5 its/sec)\n",
      "loss: 0.017270 [  640/17000] (23029.9 its/sec)\n",
      "loss: 0.018131 [ 1280/17000] (22670.1 its/sec)\n",
      "loss: 0.017997 [ 1920/17000] (23292.2 its/sec)\n",
      "loss: 0.024559 [ 2560/17000] (23567.5 its/sec)\n",
      "loss: 0.012734 [ 3200/17000] (23697.6 its/sec)\n",
      "loss: 0.016009 [ 3840/17000] (23849.5 its/sec)\n",
      "loss: 0.013682 [ 4480/17000] (23893.1 its/sec)\n",
      "loss: 0.022217 [ 5120/17000] (23211.1 its/sec)\n",
      "loss: 0.016004 [ 5760/17000] (22730.5 its/sec)\n",
      "loss: 0.011015 [ 6400/17000] (21844.5 its/sec)\n",
      "loss: 0.015770 [ 7040/17000] (23139.8 its/sec)\n",
      "loss: 0.014066 [ 7680/17000] (23659.0 its/sec)\n",
      "loss: 0.021493 [ 8320/17000] (23689.7 its/sec)\n",
      "loss: 0.023770 [ 8960/17000] (23039.8 its/sec)\n",
      "loss: 0.013973 [ 9600/17000] (22229.2 its/sec)\n",
      "loss: 0.009286 [10240/17000] (21905.1 its/sec)\n",
      "loss: 0.013144 [10880/17000] (21968.2 its/sec)\n",
      "loss: 0.011442 [11520/17000] (22076.6 its/sec)\n",
      "loss: 0.025492 [12160/17000] (22990.2 its/sec)\n",
      "loss: 0.013761 [12800/17000] (23404.6 its/sec)\n",
      "loss: 0.013667 [13440/17000] (23945.8 its/sec)\n",
      "loss: 0.018439 [14080/17000] (23315.1 its/sec)\n",
      "loss: 0.018383 [14720/17000] (23496.6 its/sec)\n",
      "loss: 0.016823 [15360/17000] (22767.7 its/sec)\n",
      "loss: 0.013385 [16000/17000] (21936.6 its/sec)\n",
      "loss: 0.016853 [16640/17000] (22270.9 its/sec)\n",
      "Avg Loss: 0.017427\n",
      "\n",
      "Done!\n"
     ]
    }
   ],
   "source": [
    "ff = FeedForward().to(device)\n",
    "loss_func = nn.MSELoss()\n",
    "optimizer = torch.optim.Adam(ff.parameters(), lr=1e-3)\n",
    "epochs = 10\n",
    "train_loss = []\n",
    "test_loss = []\n",
    "for t in range(epochs):\n",
    "    print(f\"Epoch {t+1}\\n------------------------------- \\n\")\n",
    "    losses = train(train_loader, ff, loss_func, optimizer)\n",
    "    train_loss.append(losses)\n",
    "    test_loss.append(test(test_loader, ff, loss_func))\n",
    "\n",
    "# Could add a condition that interrupts training when the loss doesn't change much\n",
    "print(\"Done!\")"
   ]
  },
  {
   "cell_type": "code",
   "execution_count": 38,
   "metadata": {
    "colab": {
     "base_uri": "https://localhost:8080/",
     "height": 447
    },
    "id": "xh24R8-VdIN8",
    "outputId": "fa138b15-3f6c-4fbc-cfcf-ed1d5b83ea26"
   },
   "outputs": [
    {
     "data": {
      "text/plain": [
       "[<matplotlib.lines.Line2D at 0x299597040>]"
      ]
     },
     "execution_count": 38,
     "metadata": {},
     "output_type": "execute_result"
    },
    {
     "data": {
      "image/png": "[encoded data removed]",
      "text/plain": [
       "<Figure size 432x288 with 1 Axes>"
      ]
     },
     "metadata": {
      "needs_background": "light"
     },
     "output_type": "display_data"
    }
   ],
   "source": [
    "plt.plot([i for i in range(len(train_loss))], torch.tensor(train_loss).mean(axis=1))"
   ]
  },
  {
   "cell_type": "code",
   "execution_count": 39,
   "metadata": {
    "colab": {
     "base_uri": "https://localhost:8080/",
     "height": 447
    },
    "id": "lbFlT5DCtWp9",
    "outputId": "76d38de6-253f-48d4-8c65-6557aa6d050d"
   },
   "outputs": [
    {
     "data": {
      "text/plain": [
       "[<matplotlib.lines.Line2D at 0x2afad3670>]"
      ]
     },
     "execution_count": 39,
     "metadata": {},
     "output_type": "execute_result"
    },
    {
     "data": {
      "image/png": "[encoded data removed]",
      "text/plain": [
       "<Figure size 432x288 with 1 Axes>"
      ]
     },
     "metadata": {
      "needs_background": "light"
     },
     "output_type": "display_data"
    }
   ],
   "source": [
    "plt.plot([i for i in range(len(test_loss))], test_loss)"
   ]
  },
  {
   "cell_type": "code",
   "execution_count": 40,
   "metadata": {
    "colab": {
     "base_uri": "https://localhost:8080/"
    },
    "id": "Tck5Qq4dIUTB",
    "outputId": "da5be816-2f8c-41ba-ba0b-3980b3cfb599"
   },
   "outputs": [
    {
     "name": "stdout",
     "output_type": "stream",
     "text": [
      "tensor([[-0.0263]])\n",
      "tensor([0.1041])\n",
      "0.017008448019623756\n"
     ]
    }
   ],
   "source": [
    "ff.eval()\n",
    "with torch.no_grad():\n",
    "    x, y = train_data[4]\n",
    "    x = x.to(device)\n",
    "    y = y.to(device)\n",
    "\n",
    "    pred = ff(x)\n",
    "    print(pred)\n",
    "    print(y)\n",
    "print(loss_func(pred, y.unsqueeze(1)).item())"
   ]
  },
  {
   "cell_type": "code",
   "execution_count": null,
   "metadata": {
    "id": "I9Uj_4mudDFY"
   },
   "outputs": [],
   "source": []
  }
 ],
 "metadata": {
  "accelerator": "GPU",
  "colab": {
   "provenance": []
  },
  "kernelspec": {
   "display_name": "Python 3 (ipykernel)",
   "language": "python",
   "name": "python3"
  },
  "language_info": {
   "codemirror_mode": {
    "name": "ipython",
    "version": 3
   },
   "file_extension": ".py",
   "mimetype": "text/x-python",
   "name": "python",
   "nbconvert_exporter": "python",
   "pygments_lexer": "ipython3",
   "version": "3.9.12"
  }
 },
 "nbformat": 4,
 "nbformat_minor": 1
}
